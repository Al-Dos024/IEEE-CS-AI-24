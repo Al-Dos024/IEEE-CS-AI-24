{
 "cells": [
  {
   "cell_type": "code",
   "execution_count": 5,
   "id": "6d09a672-430e-4dde-a0a8-5e9fb00daeda",
   "metadata": {},
   "outputs": [],
   "source": [
    "import numpy as np"
   ]
  },
  {
   "cell_type": "code",
   "execution_count": 6,
   "id": "caf743c1-1cf8-4c4f-94c3-673b4ed4015c",
   "metadata": {},
   "outputs": [],
   "source": [
    "# 1. Create a 3x3 array that contains a diagonal of nines.\n",
    "frist = np.full((3,3),9)"
   ]
  },
  {
   "cell_type": "code",
   "execution_count": 7,
   "id": "25dfdb42-f5b7-4630-81af-a6f31e3e0e7d",
   "metadata": {},
   "outputs": [
    {
     "name": "stdout",
     "output_type": "stream",
     "text": [
      "[[9 9 9]\n",
      " [9 9 9]\n",
      " [9 9 9]]\n"
     ]
    }
   ],
   "source": [
    "print (frist)"
   ]
  },
  {
   "cell_type": "code",
   "execution_count": 8,
   "id": "0101ea69-6223-48ee-9a8a-5e5bd51ca313",
   "metadata": {},
   "outputs": [],
   "source": [
    "# 2. Create a 4 x 4 ndarray that only contains consecutive even numbers from 2 to 32 (inclusive) and use boolean indexing to pick out the values that are within 1/2 standard deviations of the mean.\n",
    "second = np.arange(2, 33, 2).reshape(4, 4)\n",
    "mean = np.mean(second)\n",
    "std_dev = np.std(second)"
   ]
  },
  {
   "cell_type": "code",
   "execution_count": 9,
   "id": "c1ff5e3f-d165-4ece-8109-afb8191db08e",
   "metadata": {},
   "outputs": [],
   "source": [
    "half_std_dev = second[(second > mean - 0.5 * std_dev) & (second < mean + 0.5 * std_dev)]"
   ]
  },
  {
   "cell_type": "code",
   "execution_count": 10,
   "id": "c34f535e-8f7e-4c5e-ae74-3083bf20b06c",
   "metadata": {},
   "outputs": [
    {
     "name": "stdout",
     "output_type": "stream",
     "text": [
      "[14 16 18 20]\n"
     ]
    }
   ],
   "source": [
    "print(half_std_dev)"
   ]
  },
  {
   "cell_type": "code",
   "execution_count": 11,
   "id": "2b08b658-40ff-4532-9767-990ab528beed",
   "metadata": {},
   "outputs": [
    {
     "name": "stdout",
     "output_type": "stream",
     "text": [
      "[[0 0 0 0 0 0 0 0 0]\n",
      " [0 0 0 0 0 0 0 0 0]\n",
      " [0 0 0 0 0 0 0 0 0]\n",
      " [0 0 0 0 0 0 0 0 0]\n",
      " [0 0 0 0 0 0 0 0 0]\n",
      " [0 0 0 0 0 0 0 0 0]\n",
      " [0 0 0 0 0 0 0 0 0]\n",
      " [0 0 0 0 0 0 0 0 0]\n",
      " [0 0 0 0 0 0 0 0 0]]\n"
     ]
    }
   ],
   "source": [
    "# 3. Create a 9x9 array that contains only zeros of type int.\n",
    "third = np.zeros((9, 9), dtype=int)\n",
    "print(third)"
   ]
  },
  {
   "cell_type": "code",
   "execution_count": 12,
   "id": "33fbf14f-77a3-4f20-be07-0ae5e873ff56",
   "metadata": {},
   "outputs": [
    {
     "name": "stdout",
     "output_type": "stream",
     "text": [
      "Enter a number n: 5\n"
     ]
    }
   ],
   "source": [
    "# 4. Ask the user for a number n. Then, use broadcasting to create a n x n ndarray that has its first column full of ones, its second column full of twos, its third column full of threes, etc…\n",
    "n = int(input(\"Enter a number n:\"))\n",
    "fourth = np.tile(np.arange(1, n + 1), (n, 1))"
   ]
  },
  {
   "cell_type": "code",
   "execution_count": 13,
   "id": "42be917c-b712-495a-8992-61b30adf9a97",
   "metadata": {},
   "outputs": [
    {
     "name": "stdout",
     "output_type": "stream",
     "text": [
      "[[1 2 3 4 5]\n",
      " [1 2 3 4 5]\n",
      " [1 2 3 4 5]\n",
      " [1 2 3 4 5]\n",
      " [1 2 3 4 5]]\n"
     ]
    }
   ],
   "source": [
    "print (fourth)"
   ]
  },
  {
   "cell_type": "markdown",
   "id": "278e2495-e766-49b0-bcd3-182e2ad43837",
   "metadata": {},
   "source": [
    "## A . Sereja and Dima"
   ]
  },
  {
   "cell_type": "code",
   "execution_count": 14,
   "id": "bd12fb09-d92b-4c29-b193-e186e8949cb5",
   "metadata": {},
   "outputs": [
    {
     "name": "stdout",
     "output_type": "stream",
     "text": [
      "  4\n",
      "   4 1 2 10\n"
     ]
    },
    {
     "name": "stdout",
     "output_type": "stream",
     "text": [
      "12 5\n"
     ]
    }
   ],
   "source": [
    "# https://codeforces.com/contest/381/problem/A\n",
    "n = int(input())\n",
    "cards = np.array(list(map(int, input().split())))\n",
    "\n",
    "sereja_points = 0\n",
    "dima_points = 0\n",
    "left = 0\n",
    "right = n - 1\n",
    "\n",
    "while left <= right:\n",
    "    if cards[left] > cards[right]:\n",
    "        sereja_points += cards[left]\n",
    "        left += 1\n",
    "    else:\n",
    "        sereja_points += cards[right]\n",
    "        right -= 1\n",
    "\n",
    "    if left <= right:\n",
    "        if cards[left] > cards[right]:\n",
    "            dima_points += cards[left]\n",
    "            left += 1\n",
    "        else:\n",
    "            dima_points += cards[right]\n",
    "            right -= 1\n",
    "            \n",
    "print(sereja_points, dima_points)"
   ]
  },
  {
   "cell_type": "markdown",
   "id": "9f60a7ec-2cae-47b3-8dc1-34e911184411",
   "metadata": {},
   "source": [
    "## A. Brain's Photos"
   ]
  },
  {
   "cell_type": "code",
   "execution_count": 3,
   "id": "52a31759-889c-4ce7-8332-c5c09fc36f0f",
   "metadata": {},
   "outputs": [
    {
     "name": "stdout",
     "output_type": "stream",
     "text": [
      " 2 2 \n",
      " C M\n",
      "  Y Y\n"
     ]
    },
    {
     "name": "stdout",
     "output_type": "stream",
     "text": [
      "#Color\n"
     ]
    }
   ],
   "source": [
    "# https://codeforces.com/contest/707/problem/A\n",
    "n, m = map(int, input().split())\n",
    "photo_matrix = [input().split() for _ in range(n)]\n",
    "\n",
    "photo_array = np.array(photo_matrix)\n",
    "\n",
    "colors = set(np.unique(photo_array))\n",
    "color_set = {'C', 'M', 'Y'}\n",
    "if colors.intersection(color_set):\n",
    "    print(\"#Color\")\n",
    "else:\n",
    "    print(\"#Black&White\")"
   ]
  },
  {
   "cell_type": "code",
   "execution_count": 4,
   "id": "6bfb0e7c-75c3-45ee-b0ed-d4edf63a623d",
   "metadata": {},
   "outputs": [
    {
     "name": "stdout",
     "output_type": "stream",
     "text": [
      " 3 2\n",
      "  W W \n",
      " W W\n",
      "  B B\n"
     ]
    },
    {
     "name": "stdout",
     "output_type": "stream",
     "text": [
      "#Black&White\n"
     ]
    }
   ],
   "source": [
    "n, m = map(int, input().split())\n",
    "photo_matrix = [input().split() for _ in range(n)]\n",
    "\n",
    "photo_array = np.array(photo_matrix)\n",
    "\n",
    "colors = set(np.unique(photo_array))\n",
    "color_set = {'C', 'M', 'Y'}\n",
    "if colors.intersection(color_set):\n",
    "    print(\"#Color\")\n",
    "else:\n",
    "    print(\"#Black&White\")"
   ]
  }
 ],
 "metadata": {
  "kernelspec": {
   "display_name": "Python 3 (ipykernel)",
   "language": "python",
   "name": "python3"
  },
  "language_info": {
   "codemirror_mode": {
    "name": "ipython",
    "version": 3
   },
   "file_extension": ".py",
   "mimetype": "text/x-python",
   "name": "python",
   "nbconvert_exporter": "python",
   "pygments_lexer": "ipython3",
   "version": "3.12.0"
  }
 },
 "nbformat": 4,
 "nbformat_minor": 5
}
